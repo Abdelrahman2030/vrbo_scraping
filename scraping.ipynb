{
 "cells": [
  {
   "cell_type": "code",
   "execution_count": 47,
   "metadata": {},
   "outputs": [],
   "source": [
    "# import libraries\n",
    "import time\n",
    "\n",
    "import pandas as pd\n",
    "import requests\n",
    "from bs4 import BeautifulSoup\n",
    "from selenium.webdriver import Chrome\n",
    "from selenium.webdriver.common.action_chains import ActionChains\n",
    "from selenium.webdriver.common.by import By\n",
    "from selenium.webdriver.common.keys import Keys\n"
   ]
  },
  {
   "cell_type": "markdown",
   "metadata": {},
   "source": [
    "# Open and load"
   ]
  },
  {
   "cell_type": "code",
   "execution_count": 201,
   "metadata": {},
   "outputs": [],
   "source": [
    "url = \"https://www.vrbo.com/search?regionId=235&semcid=VRBO-US.B.GOOGLE.BD-c-EN.VR&semdtl=a118921852681.b1145236417018.g1kwd-522436780534.e1c.m1CjwKCAiA74G9BhAEEiwA8kNfpQI3jfqFv5rIIHkaPzgVrlALK5ybAW4IImA5xRUpnmTkYFzWLtfjJxoCygwQAvD_BwE.r12e213678c473a12ebda4545133f2c07ecb5fc68c81df9a7bed9eff41fcdc4ffc.c1ioSXP-1MdtLmUk2KclVEuw.j19073655.k121160.d1639955023346.h1p.i1.l1.n1.o1.p1.q1.s1.t1.x1.f1.u1.v1.w1&gad_source=1&gclid=CjwKCAiA74G9BhAEEiwA8kNfpQI3jfqFv5rIIHkaPzgVrlALK5ybAW4IImA5xRUpnmTkYFzWLtfjJxoCygwQAvD_BwE&destination=North%20Carolina%2C%20United%20States%20of%20America&isInvalidatedDate=false&theme=&userIntent=&adults=2&children=&latLong=35.719758%2C-79.453125&mapBounds=&pwaDialog=&amenities=&sort=RECOMMENDED\""
   ]
  },
  {
   "cell_type": "code",
   "execution_count": 202,
   "metadata": {},
   "outputs": [],
   "source": [
    "driver = Chrome()\n",
    "# Open the url\n",
    "driver.get(url)"
   ]
  },
  {
   "cell_type": "code",
   "execution_count": 203,
   "metadata": {},
   "outputs": [
    {
     "data": {
      "text/plain": [
       "'\\n# The first button that appears once you open the site (Will you help us improve our site experience by answering a few questions?)\\nno_button = driver.find_element(\\n    By.XPATH,\\n    \"//*[@class = \\'QSIWebResponsiveDialog-Layout1-SI_2gkChTmM30eirR4_button QSIWebResponsiveDialog-Layout1-SI_2gkChTmM30eirR4_button-2 QSIWebResponsiveDialog-Layout1-SI_2gkChTmM30eirR4_button-compact QSIWebResponsiveDialog-Layout1-SI_2gkChTmM30eirR4_button-border-radius-completely-rounded\\']\",\\n)\\nno_button.click()\\n'"
      ]
     },
     "execution_count": 203,
     "metadata": {},
     "output_type": "execute_result"
    }
   ],
   "source": [
    "\"\"\"\n",
    "# The first button that appears once you open the site (Will you help us improve our site experience by answering a few questions?)\n",
    "no_button = driver.find_element(\n",
    "    By.XPATH,\n",
    "    \"//*[@class = 'QSIWebResponsiveDialog-Layout1-SI_2gkChTmM30eirR4_button QSIWebResponsiveDialog-Layout1-SI_2gkChTmM30eirR4_button-2 QSIWebResponsiveDialog-Layout1-SI_2gkChTmM30eirR4_button-compact QSIWebResponsiveDialog-Layout1-SI_2gkChTmM30eirR4_button-border-radius-completely-rounded']\",\n",
    ")\n",
    "no_button.click()\n",
    "\"\"\""
   ]
  },
  {
   "cell_type": "code",
   "execution_count": 204,
   "metadata": {},
   "outputs": [],
   "source": [
    "# Find and click the done button\n",
    "done_button = driver.find_elements(\n",
    "    By.XPATH,\n",
    "    \"//*[@class = 'uitk-button uitk-button-medium uitk-button-has-text uitk-button-primary uitk-layout-flex-item']\",\n",
    ")\n",
    "done_button[0].click()"
   ]
  },
  {
   "cell_type": "markdown",
   "metadata": {},
   "source": [
    "# Collect URLs"
   ]
  },
  {
   "cell_type": "code",
   "execution_count": 205,
   "metadata": {},
   "outputs": [],
   "source": [
    "all_links = []  # This will have all the links\n",
    "\n",
    "# Create the scrollable section\n",
    "scrollable_section = driver.find_element(\n",
    "    By.XPATH,\n",
    "    \"//*[@class = 'uitk-layout-grid-item scrollable-result-section uitk-scrollable uitk-scrollable-vertical']\",\n",
    ")\n",
    "\n",
    "len_final_message = 0\n",
    "\n",
    "# for loop to itirate over pages\n",
    "while len_final_message == 0:\n",
    "    time.sleep(5)  # Till the new page loads\n",
    "    for index in range(4):  # 4 steps: 25%, 50%, 75%, 100%\n",
    "        scroll_height = driver.execute_script(\n",
    "            \"return arguments[0].scrollHeight;\", scrollable_section\n",
    "        )\n",
    "        scroll_position = (index + 1) * (scroll_height / 4)  # Move in quarters\n",
    "\n",
    "        driver.execute_script(\n",
    "            \"arguments[0].scrollTop = arguments[1];\",\n",
    "            scrollable_section,\n",
    "            scroll_position,\n",
    "        )\n",
    "\n",
    "        time.sleep(3)  # Allow content to load\n",
    "\n",
    "    links = driver.find_elements(\n",
    "        By.XPATH, \"//*[@class = 'uitk-card-link']\"\n",
    "    )  # Links in the page\n",
    "    all_links.extend(links)  # ADD the values to the entire links list\n",
    "\n",
    "    # Next pages button\n",
    "    next_button = driver.find_elements(\n",
    "        By.XPATH,\n",
    "        \"//*[@class = 'uitk-button uitk-button-medium uitk-button-only-icon uitk-button-primary uitk-spacing uitk-spacing-margin-inlinestart-four']\",\n",
    "    )\n",
    "    driver.execute_script(\n",
    "        \"arguments[0].click();\", next_button[0]\n",
    "    )  # Clicks the next button\n",
    "\n",
    "    # End loop factor is the appearing of final message\n",
    "    final_message = driver.find_elements(\n",
    "        By.XPATH,\n",
    "        '//h3[text()=\"We don\\'t have any more properties that match your search criteria\"]',\n",
    "    )\n",
    "\n",
    "    len_final_message = len(final_message)"
   ]
  },
  {
   "cell_type": "code",
   "execution_count": 206,
   "metadata": {},
   "outputs": [],
   "source": [
    "def infinite_scroll():\n",
    "    \"\"\"\n",
    "    Continuously scrolls through a scrollable section and clicks the next button.\n",
    "    This function uses JavaScript to scroll to the bottom of a specified scrollable section\n",
    "    and then clicks a button to load more content. It repeats this process indefinitely.\n",
    "    Note:\n",
    "        - The function assumes that the `driver` and `scrollable_section` variables are defined\n",
    "          and accessible within the scope where this function is called.\n",
    "        - The function also assumes that the `By` class from `selenium.webdriver.common.by` and\n",
    "          the `time` module are imported.\n",
    "    Raises:\n",
    "        IndexError: If the next button is not found in the DOM.\n",
    "    \"\"\"\n",
    "    while True:\n",
    "        driver.execute_script(\n",
    "            \"arguments[0].scrollTop = arguments[0].scrollHeight;\", scrollable_section\n",
    "        )\n",
    "\n",
    "        next_button = driver.find_elements(\n",
    "            By.XPATH,\n",
    "            \"//*[@class = 'uitk-button uitk-button-medium uitk-button-only-icon uitk-button-primary uitk-spacing uitk-spacing-margin-inlinestart-four']\",\n",
    "        )\n",
    "\n",
    "        driver.execute_script(\n",
    "            \"arguments[0].click();\", next_button[0]\n",
    "        )  # Clicks the next button\n",
    "        time.sleep(4)"
   ]
  },
  {
   "cell_type": "code",
   "execution_count": null,
   "metadata": {},
   "outputs": [],
   "source": []
  }
 ],
 "metadata": {
  "kernelspec": {
   "display_name": "data3_12",
   "language": "python",
   "name": "python3"
  },
  "language_info": {
   "codemirror_mode": {
    "name": "ipython",
    "version": 3
   },
   "file_extension": ".py",
   "mimetype": "text/x-python",
   "name": "python",
   "nbconvert_exporter": "python",
   "pygments_lexer": "ipython3",
   "version": "3.12.8"
  }
 },
 "nbformat": 4,
 "nbformat_minor": 2
}
