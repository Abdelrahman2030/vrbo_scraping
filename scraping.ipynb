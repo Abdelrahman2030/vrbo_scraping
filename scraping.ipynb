{
 "cells": [
  {
   "cell_type": "code",
   "execution_count": 6,
   "metadata": {},
   "outputs": [],
   "source": [
    "# import libraries\n",
    "import time\n",
    "\n",
    "import pandas as pd\n",
    "import requests\n",
    "from bs4 import BeautifulSoup\n",
    "from selenium.webdriver import Chrome\n",
    "from selenium.webdriver.common.action_chains import ActionChains\n",
    "from selenium.webdriver.common.by import By\n",
    "from selenium.webdriver.common.keys import Keys\n"
   ]
  },
  {
   "cell_type": "markdown",
   "metadata": {},
   "source": [
    "# Open and load"
   ]
  },
  {
   "cell_type": "code",
   "execution_count": 7,
   "metadata": {},
   "outputs": [],
   "source": [
    "url = \"https://www.vrbo.com/search?regionId=235&semcid=VRBO-US.B.GOOGLE.BD-c-EN.VR&semdtl=a118921852681.b1145236417018.g1kwd-522436780534.e1c.m1CjwKCAiA74G9BhAEEiwA8kNfpQI3jfqFv5rIIHkaPzgVrlALK5ybAW4IImA5xRUpnmTkYFzWLtfjJxoCygwQAvD_BwE.r12e213678c473a12ebda4545133f2c07ecb5fc68c81df9a7bed9eff41fcdc4ffc.c1ioSXP-1MdtLmUk2KclVEuw.j19073655.k121160.d1639955023346.h1p.i1.l1.n1.o1.p1.q1.s1.t1.x1.f1.u1.v1.w1&gad_source=1&gclid=CjwKCAiA74G9BhAEEiwA8kNfpQI3jfqFv5rIIHkaPzgVrlALK5ybAW4IImA5xRUpnmTkYFzWLtfjJxoCygwQAvD_BwE&destination=North%20Carolina%2C%20United%20States%20of%20America&isInvalidatedDate=false&theme=&userIntent=&adults=2&children=&latLong=35.719758%2C-79.453125&mapBounds=&pwaDialog=&amenities=&sort=RECOMMENDED\""
   ]
  },
  {
   "cell_type": "code",
   "execution_count": 8,
   "metadata": {},
   "outputs": [],
   "source": [
    "driver = Chrome()\n",
    "# Open the url\n",
    "driver.get(url)"
   ]
  },
  {
   "cell_type": "code",
   "execution_count": 9,
   "metadata": {},
   "outputs": [
    {
     "data": {
      "text/plain": [
       "'\\n# The first button that appears once you open the site (Will you help us improve our site experience by answering a few questions?)\\nno_button = driver.find_element(\\n    By.XPATH,\\n    \"//*[@class = \\'QSIWebResponsiveDialog-Layout1-SI_2gkChTmM30eirR4_button QSIWebResponsiveDialog-Layout1-SI_2gkChTmM30eirR4_button-2 QSIWebResponsiveDialog-Layout1-SI_2gkChTmM30eirR4_button-compact QSIWebResponsiveDialog-Layout1-SI_2gkChTmM30eirR4_button-border-radius-completely-rounded\\']\",\\n)\\nno_button.click()\\n'"
      ]
     },
     "execution_count": 9,
     "metadata": {},
     "output_type": "execute_result"
    }
   ],
   "source": [
    "\"\"\"\n",
    "# The first button that appears once you open the site (Will you help us improve our site experience by answering a few questions?)\n",
    "no_button = driver.find_element(\n",
    "    By.XPATH,\n",
    "    \"//*[@class = 'QSIWebResponsiveDialog-Layout1-SI_2gkChTmM30eirR4_button QSIWebResponsiveDialog-Layout1-SI_2gkChTmM30eirR4_button-2 QSIWebResponsiveDialog-Layout1-SI_2gkChTmM30eirR4_button-compact QSIWebResponsiveDialog-Layout1-SI_2gkChTmM30eirR4_button-border-radius-completely-rounded']\",\n",
    ")\n",
    "no_button.click()\n",
    "\"\"\""
   ]
  },
  {
   "cell_type": "code",
   "execution_count": 10,
   "metadata": {},
   "outputs": [],
   "source": [
    "# Find and click the done button\n",
    "done_button = driver.find_elements(\n",
    "    By.XPATH,\n",
    "    \"//*[@class = 'uitk-button uitk-button-medium uitk-button-has-text uitk-button-primary uitk-layout-flex-item']\",\n",
    ")\n",
    "done_button[0].click()"
   ]
  },
  {
   "cell_type": "markdown",
   "metadata": {},
   "source": [
    "# Collect URLs"
   ]
  },
  {
   "cell_type": "code",
   "execution_count": 205,
   "metadata": {},
   "outputs": [],
   "source": [
    "all_links = []  # This will have all the links\n",
    "\n",
    "# Create the scrollable section\n",
    "scrollable_section = driver.find_element(\n",
    "    By.XPATH,\n",
    "    \"//*[@class = 'uitk-layout-grid-item scrollable-result-section uitk-scrollable uitk-scrollable-vertical']\",\n",
    ")\n",
    "\n",
    "len_final_message = 0\n",
    "\n",
    "# for loop to itirate over pages\n",
    "while len_final_message == 0:\n",
    "    time.sleep(5)  # Till the new page loads\n",
    "    for index in range(4):  # 4 steps: 25%, 50%, 75%, 100%\n",
    "        scroll_height = driver.execute_script(\n",
    "            \"return arguments[0].scrollHeight;\", scrollable_section\n",
    "        )\n",
    "        scroll_position = (index + 1) * (scroll_height / 4)  # Move in quarters\n",
    "\n",
    "        driver.execute_script(\n",
    "            \"arguments[0].scrollTop = arguments[1];\",\n",
    "            scrollable_section,\n",
    "            scroll_position,\n",
    "        )\n",
    "\n",
    "        time.sleep(3)  # Allow content to load\n",
    "\n",
    "    links = driver.find_elements(\n",
    "        By.XPATH, \"//*[@class = 'uitk-card-link']\"\n",
    "    )  # Links in the page\n",
    "\n",
    "    # Extract href attributes\n",
    "    all_urls = [link.get_attribute(\"href\") for link in links]\n",
    "\n",
    "    all_links.extend(all_urls)  # ADD the values to the entire links list\n",
    "\n",
    "    # Next pages button\n",
    "    next_button = driver.find_elements(\n",
    "        By.XPATH,\n",
    "        \"//*[@class = 'uitk-button uitk-button-medium uitk-button-only-icon uitk-button-primary uitk-spacing uitk-spacing-margin-inlinestart-four']\",\n",
    "    )\n",
    "    driver.execute_script(\n",
    "        \"arguments[0].click();\", next_button[0]\n",
    "    )  # Clicks the next button\n",
    "\n",
    "    # End loop factor is the appearing of final message\n",
    "    final_message = driver.find_elements(\n",
    "        By.XPATH,\n",
    "        '//h3[text()=\"We don\\'t have any more properties that match your search criteria\"]',\n",
    "    )\n",
    "\n",
    "    len_final_message = len(final_message)"
   ]
  },
  {
   "cell_type": "code",
   "execution_count": 206,
   "metadata": {},
   "outputs": [],
   "source": [
    "def infinite_scroll():\n",
    "    \"\"\"\n",
    "    Continuously scrolls through a scrollable section and clicks the next button.\n",
    "    This function uses JavaScript to scroll to the bottom of a specified scrollable section\n",
    "    and then clicks a button to load more content. It repeats this process indefinitely.\n",
    "    Note:\n",
    "        - The function assumes that the `driver` and `scrollable_section` variables are defined\n",
    "          and accessible within the scope where this function is called.\n",
    "        - The function also assumes that the `By` class from `selenium.webdriver.common.by` and\n",
    "          the `time` module are imported.\n",
    "    Raises:\n",
    "        IndexError: If the next button is not found in the DOM.\n",
    "    \"\"\"\n",
    "    while True:\n",
    "        driver.execute_script(\n",
    "            \"arguments[0].scrollTop = arguments[0].scrollHeight;\", scrollable_section\n",
    "        )\n",
    "\n",
    "        next_button = driver.find_elements(\n",
    "            By.XPATH,\n",
    "            \"//*[@class = 'uitk-button uitk-button-medium uitk-button-only-icon uitk-button-primary uitk-spacing uitk-spacing-margin-inlinestart-four']\",\n",
    "        )\n",
    "\n",
    "        driver.execute_script(\n",
    "            \"arguments[0].click();\", next_button[0]\n",
    "        )  # Clicks the next button\n",
    "        time.sleep(4)"
   ]
  },
  {
   "cell_type": "markdown",
   "metadata": {},
   "source": [
    "# Scrap individual links"
   ]
  },
  {
   "cell_type": "code",
   "execution_count": 54,
   "metadata": {},
   "outputs": [
    {
     "data": {
      "text/html": [
       "<div>\n",
       "<style scoped>\n",
       "    .dataframe tbody tr th:only-of-type {\n",
       "        vertical-align: middle;\n",
       "    }\n",
       "\n",
       "    .dataframe tbody tr th {\n",
       "        vertical-align: top;\n",
       "    }\n",
       "\n",
       "    .dataframe thead th {\n",
       "        text-align: right;\n",
       "    }\n",
       "</style>\n",
       "<table border=\"1\" class=\"dataframe\">\n",
       "  <thead>\n",
       "    <tr style=\"text-align: right;\">\n",
       "      <th></th>\n",
       "      <th>links</th>\n",
       "    </tr>\n",
       "  </thead>\n",
       "  <tbody>\n",
       "    <tr>\n",
       "      <th>9</th>\n",
       "      <td>https://www.vrbo.com/2632787?dateless=true&amp;x_p...</td>\n",
       "    </tr>\n",
       "    <tr>\n",
       "      <th>10</th>\n",
       "      <td>https://www.vrbo.com/9864882ha?dateless=true&amp;x...</td>\n",
       "    </tr>\n",
       "    <tr>\n",
       "      <th>11</th>\n",
       "      <td>https://www.vrbo.com/3325136?dateless=true&amp;x_p...</td>\n",
       "    </tr>\n",
       "    <tr>\n",
       "      <th>12</th>\n",
       "      <td>https://www.vrbo.com/3195090?dateless=true&amp;x_p...</td>\n",
       "    </tr>\n",
       "    <tr>\n",
       "      <th>13</th>\n",
       "      <td>https://www.vrbo.com/1719413?dateless=true&amp;x_p...</td>\n",
       "    </tr>\n",
       "    <tr>\n",
       "      <th>...</th>\n",
       "      <td>...</td>\n",
       "    </tr>\n",
       "    <tr>\n",
       "      <th>477</th>\n",
       "      <td>https://www.vrbo.com/9908530ha?dateless=true&amp;x...</td>\n",
       "    </tr>\n",
       "    <tr>\n",
       "      <th>478</th>\n",
       "      <td>https://www.vrbo.com/9379928ha?dateless=true&amp;x...</td>\n",
       "    </tr>\n",
       "    <tr>\n",
       "      <th>479</th>\n",
       "      <td>https://www.vrbo.com/9798903ha?dateless=true&amp;x...</td>\n",
       "    </tr>\n",
       "    <tr>\n",
       "      <th>480</th>\n",
       "      <td>https://www.vrbo.com/3406794?dateless=true&amp;x_p...</td>\n",
       "    </tr>\n",
       "    <tr>\n",
       "      <th>481</th>\n",
       "      <td>https://www.vrbo.com/2982784?dateless=true&amp;x_p...</td>\n",
       "    </tr>\n",
       "  </tbody>\n",
       "</table>\n",
       "<p>473 rows × 1 columns</p>\n",
       "</div>"
      ],
      "text/plain": [
       "                                                 links\n",
       "9    https://www.vrbo.com/2632787?dateless=true&x_p...\n",
       "10   https://www.vrbo.com/9864882ha?dateless=true&x...\n",
       "11   https://www.vrbo.com/3325136?dateless=true&x_p...\n",
       "12   https://www.vrbo.com/3195090?dateless=true&x_p...\n",
       "13   https://www.vrbo.com/1719413?dateless=true&x_p...\n",
       "..                                                 ...\n",
       "477  https://www.vrbo.com/9908530ha?dateless=true&x...\n",
       "478  https://www.vrbo.com/9379928ha?dateless=true&x...\n",
       "479  https://www.vrbo.com/9798903ha?dateless=true&x...\n",
       "480  https://www.vrbo.com/3406794?dateless=true&x_p...\n",
       "481  https://www.vrbo.com/2982784?dateless=true&x_p...\n",
       "\n",
       "[473 rows x 1 columns]"
      ]
     },
     "execution_count": 54,
     "metadata": {},
     "output_type": "execute_result"
    }
   ],
   "source": [
    "urls = pd.read_csv(\"vrbo_links.csv\")\n",
    "urls.drop(columns=[urls.columns[0]], axis=1, inplace=True)\n",
    "urls = urls.iloc[9:]\n",
    "urls"
   ]
  },
  {
   "cell_type": "code",
   "execution_count": 138,
   "metadata": {},
   "outputs": [],
   "source": [
    "all_links = urls[\"links\"]"
   ]
  },
  {
   "cell_type": "code",
   "execution_count": 139,
   "metadata": {},
   "outputs": [
    {
     "data": {
      "text/plain": [
       "True"
      ]
     },
     "execution_count": 139,
     "metadata": {},
     "output_type": "execute_result"
    }
   ],
   "source": [
    "len(all_links) == len(set(all_links))"
   ]
  },
  {
   "cell_type": "code",
   "execution_count": 100,
   "metadata": {},
   "outputs": [
    {
     "data": {
      "text/plain": [
       "'https://www.vrbo.com/2632787?dateless=true&x_pwa=1&rfrr=HSR&pwa_ts=1738660375793&referrerUrl=aHR0cHM6Ly93d3cudnJiby5jb20vSG90ZWwtU2VhcmNo&useRewards=false&adults=2&regionId=235&destination=North+Carolina%2C+United+States+of+America&destType=MARKET&neighborhoodId=6214680&latLong=35.719758%2C-79.453125&privacyTrackingState=CAN_TRACK&searchId=a18e4390-4f7a-4891-88cf-a8498957daa4&sort=RECOMMENDED&gclid=CjwKCAiA74G9BhAEEiwA8kNfpQI3jfqFv5rIIHkaPzgVrlALK5ybAW4IImA5xRUpnmTkYFzWLtfjJxoCygwQAvD_BwE&semcid=VRBO-US.B.GOOGLE.BD-c-EN.VR&semdtl=a118921852681.b1145236417018.g1kwd-522436780534.e1c.m1CjwKCAiA74G9BhAEEiwA8kNfpQI3jfqFv5rIIHkaPzgVrlALK5ybAW4IImA5xRUpnmTkYFzWLtfjJxoCygwQAvD_BwE.r12e213678c473a12ebda4545133f2c07ecb5fc68c81df9a7bed9eff41fcdc4ffc.c1ioSXP-1MdtLmUk2KclVEuw.j19073655.k121160.d1639955023346.h1p.i1.l1.n1.o1.p1.q1.s1.t1.x1.f1.u1.v1.w1&semdtl=a118921852681.b1145236417018.g1kwd-522436780534.e1c.m1CjwKCAiA74G9BhAEEiwA8kNfpQI3jfqFv5rIIHkaPzgVrlALK5ybAW4IImA5xRUpnmTkYFzWLtfjJxoCygwQAvD_BwE.r12e213678c473a12ebda4545133f2c07ecb5fc68c81df9a7bed9eff41fcdc4ffc.c1ioSXP-1MdtLmUk2KclVEuw.j19073655.k121160.d1639955023346.h1p.i1.l1.n1.o1.p1.q1.s1.t1.x1.f1.u1.v1.w1&userIntent=&expediaPropertyId=74731706'"
      ]
     },
     "execution_count": 100,
     "metadata": {},
     "output_type": "execute_result"
    }
   ],
   "source": [
    "url = urls.iloc[0].values[0]\n",
    "url"
   ]
  },
  {
   "cell_type": "code",
   "execution_count": 104,
   "metadata": {},
   "outputs": [],
   "source": [
    "driver = Chrome()\n",
    "driver.get(url)"
   ]
  },
  {
   "cell_type": "code",
   "execution_count": 110,
   "metadata": {},
   "outputs": [
    {
     "data": {
      "text/plain": [
       "'Private 2 BR Home w/ Yard & Hot tub. 10 min to Downtown!'"
      ]
     },
     "execution_count": 110,
     "metadata": {},
     "output_type": "execute_result"
    }
   ],
   "source": [
    "title = driver.find_elements(By.XPATH, \"//*[@class = 'uitk-heading uitk-heading-3']\")[\n",
    "    0\n",
    "].text\n",
    "title"
   ]
  },
  {
   "cell_type": "code",
   "execution_count": 114,
   "metadata": {},
   "outputs": [
    {
     "data": {
      "text/plain": [
       "'$123'"
      ]
     },
     "execution_count": 114,
     "metadata": {},
     "output_type": "execute_result"
    }
   ],
   "source": [
    "price = driver.find_element(By.XPATH, \"//*[@class = 'uitk-lockup-price']\").text\n",
    "price"
   ]
  },
  {
   "cell_type": "code",
   "execution_count": 126,
   "metadata": {},
   "outputs": [],
   "source": [
    "items = driver.find_elements(\n",
    "    By.XPATH,\n",
    "    \"//*[@class = 'uitk-text uitk-text-spacing-three uitk-type-300 uitk-text-standard-theme uitk-layout-flex-item uitk-layout-flex-item-flex-grow-1']\",\n",
    ")\n",
    "\n",
    "num_bedrooms = int(items[0].text.split()[0])\n",
    "num_bathrooms = int(items[1].text.split()[0])\n",
    "num_sleeps = int(items[2].text.split()[1])"
   ]
  },
  {
   "cell_type": "code",
   "execution_count": null,
   "metadata": {},
   "outputs": [],
   "source": [
    "# All the popular amenities in the listing\n",
    "popular_amenities = driver.find_elements(\n",
    "    By.XPATH,\n",
    "    \"//*[@class = 'uitk-text uitk-type-300 uitk-text-default-theme uitk-layout-flex-item']\",\n",
    ")\n",
    "\n",
    "\n",
    "for i in range(6):\n",
    "    try:\n",
    "        globals()[f\"popular_amenitie_{i}\"] = popular_amenities[i].text\n",
    "\n",
    "    except:  # If there is less than 6 items\n",
    "        globals()[f\"popular_amenitie_{i}\"] = np.nan\n"
   ]
  },
  {
   "cell_type": "code",
   "execution_count": null,
   "metadata": {},
   "outputs": [],
   "source": []
  }
 ],
 "metadata": {
  "kernelspec": {
   "display_name": "data3_12",
   "language": "python",
   "name": "python3"
  },
  "language_info": {
   "codemirror_mode": {
    "name": "ipython",
    "version": 3
   },
   "file_extension": ".py",
   "mimetype": "text/x-python",
   "name": "python",
   "nbconvert_exporter": "python",
   "pygments_lexer": "ipython3",
   "version": "3.12.8"
  }
 },
 "nbformat": 4,
 "nbformat_minor": 2
}
